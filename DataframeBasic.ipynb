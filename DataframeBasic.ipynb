{
 "cells": [
  {
   "cell_type": "code",
   "execution_count": 1,
   "id": "79aeda62-cf3c-4d4c-b65f-16ef4b3cab0e",
   "metadata": {},
   "outputs": [],
   "source": [
    "import findspark\n",
    "findspark.init() # Important to use spark on jupyter"
   ]
  },
  {
   "cell_type": "code",
   "execution_count": 13,
   "id": "637f69a4-ad2f-4a1a-afd5-a03956e8c1de",
   "metadata": {},
   "outputs": [],
   "source": [
    "import pyspark\n",
    "from pyspark import SparkContext\n",
    "from pyspark.sql import SparkSession\n",
    "from pyspark.sql.functions import expr"
   ]
  },
  {
   "cell_type": "markdown",
   "id": "59c093e6-1bea-434a-beba-b607f7ae96d6",
   "metadata": {},
   "source": [
    "### Setting a spark session and context"
   ]
  },
  {
   "cell_type": "code",
   "execution_count": 3,
   "id": "7c878202-dd7a-4ac7-9163-6b35628e2f51",
   "metadata": {},
   "outputs": [
    {
     "name": "stderr",
     "output_type": "stream",
     "text": [
      "22/06/01 07:54:11 WARN Utils: Your hostname, kaique-Virtual resolves to a loopback address: 127.0.1.1; using 10.0.2.15 instead (on interface enp0s3)\n",
      "22/06/01 07:54:11 WARN Utils: Set SPARK_LOCAL_IP if you need to bind to another address\n",
      "WARNING: An illegal reflective access operation has occurred\n",
      "WARNING: Illegal reflective access by org.apache.spark.unsafe.Platform (file:/opt/spark/jars/spark-unsafe_2.12-3.1.3.jar) to constructor java.nio.DirectByteBuffer(long,int)\n",
      "WARNING: Please consider reporting this to the maintainers of org.apache.spark.unsafe.Platform\n",
      "WARNING: Use --illegal-access=warn to enable warnings of further illegal reflective access operations\n",
      "WARNING: All illegal access operations will be denied in a future release\n",
      "22/06/01 07:54:11 WARN NativeCodeLoader: Unable to load native-hadoop library for your platform... using builtin-java classes where applicable\n",
      "Using Spark's default log4j profile: org/apache/spark/log4j-defaults.properties\n",
      "Setting default log level to \"WARN\".\n",
      "To adjust logging level use sc.setLogLevel(newLevel). For SparkR, use setLogLevel(newLevel).\n"
     ]
    }
   ],
   "source": [
    "sc = SparkContext(appName=\"DataFrame\")\n",
    "spark = SparkSession.builder\\\n",
    "        .master(\"local\")\\\n",
    "        .appName(\"DataFrame\")\\\n",
    "        .getOrCreate()"
   ]
  },
  {
   "cell_type": "markdown",
   "id": "68790514-ba98-4932-9627-212c6194f666",
   "metadata": {},
   "source": [
    "### Basic to Create a dataframe"
   ]
  },
  {
   "cell_type": "code",
   "execution_count": 4,
   "id": "1d77678e-6904-4bf1-98e4-37f00c37b424",
   "metadata": {},
   "outputs": [],
   "source": [
    "schema = \"ID INT\\\n",
    "            ,Name STRING\\\n",
    "            ,Idade INT\"\n",
    "\n",
    "data = [(1,\"Kaique\",19)]\n",
    "df = spark.createDataFrame(data,schema)"
   ]
  },
  {
   "cell_type": "code",
   "execution_count": 5,
   "id": "b2aca48f-b26e-4b6a-a58b-145cf77df2f1",
   "metadata": {},
   "outputs": [
    {
     "name": "stderr",
     "output_type": "stream",
     "text": [
      "                                                                                \r"
     ]
    },
    {
     "name": "stdout",
     "output_type": "stream",
     "text": [
      "+---+------+-----+\n",
      "| ID|  Name|Idade|\n",
      "+---+------+-----+\n",
      "|  1|Kaique|   19|\n",
      "+---+------+-----+\n",
      "\n"
     ]
    }
   ],
   "source": [
    "df.show()"
   ]
  },
  {
   "cell_type": "markdown",
   "id": "bb5b63f2-0796-4691-aa84-4dd77b3df699",
   "metadata": {},
   "source": [
    "### Doing some calcs"
   ]
  },
  {
   "cell_type": "code",
   "execution_count": 8,
   "id": "29722bd2-1e94-4872-847f-dc383010e45c",
   "metadata": {},
   "outputs": [],
   "source": [
    "schema_vendas = \"ID INT,Item STRING,Qtd INT,Valor DOUBLE\"\n",
    "data_vendas = [(1,\"Caneta\",20,1.50),(2,\"Lápis\",50,1.0),(3,\"Apontador\",30,0.50)]\n",
    "df_vendas = spark.createDataFrame(data_vendas,schema_vendas)"
   ]
  },
  {
   "cell_type": "code",
   "execution_count": 9,
   "id": "6149745f-d761-49d2-a283-b5e06b5c1128",
   "metadata": {},
   "outputs": [
    {
     "name": "stdout",
     "output_type": "stream",
     "text": [
      "+---+---------+---+-----+\n",
      "| ID|     Item|Qtd|Valor|\n",
      "+---+---------+---+-----+\n",
      "|  1|   Caneta| 20|  1.5|\n",
      "|  2|    Lápis| 50|  1.0|\n",
      "|  3|Apontador| 30|  0.5|\n",
      "+---+---------+---+-----+\n",
      "\n"
     ]
    }
   ],
   "source": [
    "df_vendas.show()"
   ]
  },
  {
   "cell_type": "code",
   "execution_count": 16,
   "id": "41678af5-0d03-47c0-af59-b9f9771783ce",
   "metadata": {},
   "outputs": [
    {
     "name": "stdout",
     "output_type": "stream",
     "text": [
      "+---------+------------+\n",
      "|     Item|Total Vendas|\n",
      "+---------+------------+\n",
      "|   Caneta|        30.0|\n",
      "|    Lápis|        50.0|\n",
      "|Apontador|        15.0|\n",
      "+---------+------------+\n",
      "\n"
     ]
    }
   ],
   "source": [
    "df_vendas.select(\"Item\",expr(\"Qtd * Valor\").alias(\"Total Vendas\")).show()"
   ]
  }
 ],
 "metadata": {
  "kernelspec": {
   "display_name": "Python 3 (ipykernel)",
   "language": "python",
   "name": "python3"
  },
  "language_info": {
   "codemirror_mode": {
    "name": "ipython",
    "version": 3
   },
   "file_extension": ".py",
   "mimetype": "text/x-python",
   "name": "python",
   "nbconvert_exporter": "python",
   "pygments_lexer": "ipython3",
   "version": "3.8.10"
  }
 },
 "nbformat": 4,
 "nbformat_minor": 5
}
