{
 "cells": [
  {
   "cell_type": "code",
   "execution_count": 8,
   "id": "daa537a9-87bc-41fc-a71a-6f29f23e3372",
   "metadata": {},
   "outputs": [],
   "source": [
    "from pyspark.sql import SparkSession\n",
    "from pyspark import SparkContext\n",
    "from pyspark.sql import functions as Func"
   ]
  },
  {
   "cell_type": "code",
   "execution_count": 2,
   "id": "8b763851-143b-4f05-bbfb-7f5caa8470cc",
   "metadata": {},
   "outputs": [
    {
     "name": "stderr",
     "output_type": "stream",
     "text": [
      "22/06/06 11:16:51 WARN Utils: Your hostname, base resolves to a loopback address: 127.0.1.1; using 192.168.0.8 instead (on interface wlo1)\n",
      "22/06/06 11:16:51 WARN Utils: Set SPARK_LOCAL_IP if you need to bind to another address\n",
      "WARNING: An illegal reflective access operation has occurred\n",
      "WARNING: Illegal reflective access by org.apache.spark.unsafe.Platform (file:/home/kiq/.local/lib/python3.10/site-packages/pyspark/jars/spark-unsafe_2.12-3.2.1.jar) to constructor java.nio.DirectByteBuffer(long,int)\n",
      "WARNING: Please consider reporting this to the maintainers of org.apache.spark.unsafe.Platform\n",
      "WARNING: Use --illegal-access=warn to enable warnings of further illegal reflective access operations\n",
      "WARNING: All illegal access operations will be denied in a future release\n",
      "Using Spark's default log4j profile: org/apache/spark/log4j-defaults.properties\n",
      "Setting default log level to \"WARN\".\n",
      "To adjust logging level use sc.setLogLevel(newLevel). For SparkR, use setLogLevel(newLevel).\n",
      "22/06/06 11:16:51 WARN NativeCodeLoader: Unable to load native-hadoop library for your platform... using builtin-java classes where applicable\n",
      "22/06/06 11:16:52 WARN Utils: Service 'SparkUI' could not bind on port 4040. Attempting port 4041.\n"
     ]
    }
   ],
   "source": [
    "sc = SparkContext(appName=\"HandsOn\")\n",
    "spark = SparkSession.builder\\\n",
    "        .master(\"local\")\\\n",
    "        .appName(\"HandsOn\")\\\n",
    "        .getOrCreate()"
   ]
  },
  {
   "cell_type": "code",
   "execution_count": 3,
   "id": "6af862aa-9ad9-4cca-bdaf-4af9494e0ce2",
   "metadata": {},
   "outputs": [],
   "source": [
    "df_client = spark.read.format(\"parquet\").load(\"/home/kiq/Stud/Spark/data/Atividades/Clientes.parquet\")"
   ]
  },
  {
   "cell_type": "code",
   "execution_count": 4,
   "id": "2feb7b79-9047-44cd-b262-a4d837f34575",
   "metadata": {},
   "outputs": [
    {
     "name": "stdout",
     "output_type": "stream",
     "text": [
      "+---------+--------------------+------+------+--------+\n",
      "|ClienteID|             Cliente|Estado|Genero|  Status|\n",
      "+---------+--------------------+------+------+--------+\n",
      "|        1|Adelina Buenaventura|    RJ|     M|  Silver|\n",
      "|        2|        Adelino Gago|    RJ|     M|  Silver|\n",
      "|        3|     Adolfo Patrício|    PE|     M|  Silver|\n",
      "|        4|    Adriana Guedelha|    RO|     F|Platinum|\n",
      "|        5|       Adélio Lisboa|    SE|     M|  Silver|\n",
      "|        6|       Adérito Bahía|    MA|     M|  Silver|\n",
      "|        7|       Aida Dorneles|    RN|     F|  Silver|\n",
      "|        8|   Alarico Quinterno|    AC|     M|  Silver|\n",
      "|        9|    Alberto Cezimbra|    AM|     M|  Silver|\n",
      "|       10|    Alberto Monsanto|    RN|     M|    Gold|\n",
      "|       11|       Albino Canela|    AC|     M|  Silver|\n",
      "|       12|     Alceste Varanda|    RR|     F|  Silver|\n",
      "|       13|  Alcides Carvalhais|    RO|     M|  Silver|\n",
      "|       14|        Aldo Martins|    GO|     M|  Silver|\n",
      "|       15|   Alexandra Tabares|    MG|     F|  Silver|\n",
      "|       16|      Alfredo Cotrim|    SC|     M|  Silver|\n",
      "|       17|     Almeno Figueira|    SC|     M|  Silver|\n",
      "|       18|      Alvito Peralta|    AM|     M|  Silver|\n",
      "|       19|     Amadeu Martinho|    RN|     M|  Silver|\n",
      "|       20|      Amélia Estévez|    PE|     F|  Silver|\n",
      "+---------+--------------------+------+------+--------+\n",
      "only showing top 20 rows\n",
      "\n"
     ]
    }
   ],
   "source": [
    "df_client.show()"
   ]
  },
  {
   "cell_type": "code",
   "execution_count": 7,
   "id": "6699d1ac-60bb-4e6e-ac59-d6d285d4e546",
   "metadata": {},
   "outputs": [
    {
     "name": "stdout",
     "output_type": "stream",
     "text": [
      "+--------------------+------+--------+\n",
      "|             Cliente|Estado|  Status|\n",
      "+--------------------+------+--------+\n",
      "|Adelina Buenaventura|    RJ|  Silver|\n",
      "|        Adelino Gago|    RJ|  Silver|\n",
      "|     Adolfo Patrício|    PE|  Silver|\n",
      "|    Adriana Guedelha|    RO|Platinum|\n",
      "|       Adélio Lisboa|    SE|  Silver|\n",
      "|       Adérito Bahía|    MA|  Silver|\n",
      "|       Aida Dorneles|    RN|  Silver|\n",
      "|   Alarico Quinterno|    AC|  Silver|\n",
      "|    Alberto Cezimbra|    AM|  Silver|\n",
      "|    Alberto Monsanto|    RN|    Gold|\n",
      "|       Albino Canela|    AC|  Silver|\n",
      "|     Alceste Varanda|    RR|  Silver|\n",
      "|  Alcides Carvalhais|    RO|  Silver|\n",
      "|        Aldo Martins|    GO|  Silver|\n",
      "|   Alexandra Tabares|    MG|  Silver|\n",
      "|      Alfredo Cotrim|    SC|  Silver|\n",
      "|     Almeno Figueira|    SC|  Silver|\n",
      "|      Alvito Peralta|    AM|  Silver|\n",
      "|     Amadeu Martinho|    RN|  Silver|\n",
      "|      Amélia Estévez|    PE|  Silver|\n",
      "+--------------------+------+--------+\n",
      "only showing top 20 rows\n",
      "\n"
     ]
    }
   ],
   "source": [
    "df_client.select(\"Cliente\",\"Estado\",\"Status\").show()"
   ]
  },
  {
   "cell_type": "code",
   "execution_count": 10,
   "id": "39bdc489-895b-4d74-94f2-a03532d5ace7",
   "metadata": {},
   "outputs": [
    {
     "name": "stdout",
     "output_type": "stream",
     "text": [
      "+---------+-------------------+------+------+--------+\n",
      "|ClienteID|            Cliente|Estado|Genero|  Status|\n",
      "+---------+-------------------+------+------+--------+\n",
      "|        4|   Adriana Guedelha|    RO|     F|Platinum|\n",
      "|       10|   Alberto Monsanto|    RN|     M|    Gold|\n",
      "|       28|      Anna Carvajal|    RS|     F|    Gold|\n",
      "|       49|      Bento Quintão|    SP|     M|    Gold|\n",
      "|       68|      Carminda Dias|    AM|     F|    Gold|\n",
      "|       83|      Cláudio Jorge|    TO|     M|    Gold|\n",
      "|      121|    Dionísio Saltão|    PR|     M|    Gold|\n",
      "|      166|   Firmino Meireles|    AM|     M|    Gold|\n",
      "|      170|      Flor Vilanova|    CE|     M|Platinum|\n",
      "|      220|Honorina Villaverde|    PE|     F|    Gold|\n",
      "|      230|    Ibijara Botelho|    RR|     F|Platinum|\n",
      "|      237|  Iracema Rodríguez|    BA|     F|    Gold|\n",
      "|      247|         Joana Ataí|    GO|     F|Platinum|\n",
      "+---------+-------------------+------+------+--------+\n",
      "\n"
     ]
    }
   ],
   "source": [
    "df_client.filter((Func.col(\"Status\") == \"Platinum\") | (Func.col(\"Status\") == \"Gold\")).show()"
   ]
  },
  {
   "cell_type": "code",
   "execution_count": 11,
   "id": "92f85b63-eb7e-4a36-8dce-1c75b91cfa34",
   "metadata": {},
   "outputs": [],
   "source": [
    "df_sale = spark.read.format(\"parquet\").load(\"/home/kiq/Stud/Spark/data/Atividades/Vendas.parquet\")"
   ]
  },
  {
   "cell_type": "code",
   "execution_count": 12,
   "id": "182b529b-0d1b-4889-be0f-d4d976d3041a",
   "metadata": {},
   "outputs": [
    {
     "name": "stdout",
     "output_type": "stream",
     "text": [
      "+--------+----------+---------+---------+--------+\n",
      "|VendasID|VendedorID|ClienteID|     Data|   Total|\n",
      "+--------+----------+---------+---------+--------+\n",
      "|       1|         1|       91| 1/1/2019|  8053.6|\n",
      "|       2|         6|      185| 1/1/2020|   150.4|\n",
      "|       3|         7|       31| 2/1/2020|  6087.0|\n",
      "|       4|         5|       31| 2/1/2019| 13828.6|\n",
      "|       5|         5|       31| 3/1/2018|26096.66|\n",
      "|       6|         5|       31| 4/1/2020| 18402.0|\n",
      "|       7|         5|       31| 6/1/2019|  7524.2|\n",
      "|       8|         5|      186| 6/1/2019| 12036.6|\n",
      "|       9|         7|       91| 6/1/2020| 2804.75|\n",
      "|      10|         2|      202| 6/1/2020|  8852.0|\n",
      "|      11|         7|       58| 8/1/2019|16545.25|\n",
      "|      12|         7|       58| 9/1/2018|11411.88|\n",
      "|      13|         7|       58|10/1/2019| 15829.7|\n",
      "|      14|         3|      249|12/1/2020| 6154.36|\n",
      "|      15|         4|      249|12/1/2018| 3255.08|\n",
      "|      16|         7|      192|13/1/2020| 2901.25|\n",
      "|      17|         2|       79|13/1/2019| 15829.7|\n",
      "|      18|        10|       79|14/1/2019|16996.36|\n",
      "|      19|        10|      191|14/1/2019|   155.0|\n",
      "|      20|         9|      218|15/1/2018|  131.75|\n",
      "+--------+----------+---------+---------+--------+\n",
      "only showing top 20 rows\n",
      "\n"
     ]
    }
   ],
   "source": [
    "df_sale.show()"
   ]
  },
  {
   "cell_type": "code",
   "execution_count": 21,
   "id": "df871c2d-2df4-435d-9d92-3f108beb185c",
   "metadata": {},
   "outputs": [
    {
     "name": "stdout",
     "output_type": "stream",
     "text": [
      "+---------+-------------------+------+------+------+--------+----------+---------+--------+\n",
      "|ClienteID|            Cliente|Estado|Genero|Status|VendasID|VendedorID|     Data|   Total|\n",
      "+---------+-------------------+------+------+------+--------+----------+---------+--------+\n",
      "|       91|     Cosme Zambujal|    BA|     M|Silver|       1|         1| 1/1/2019|  8053.6|\n",
      "|      185|  Gertrudes Hidalgo|    PA|     F|Silver|       2|         6| 1/1/2020|   150.4|\n",
      "|       31|   Antão Corte-Real|    ES|     M|Silver|       3|         7| 2/1/2020|  6087.0|\n",
      "|       31|   Antão Corte-Real|    ES|     M|Silver|       4|         5| 2/1/2019| 13828.6|\n",
      "|       31|   Antão Corte-Real|    ES|     M|Silver|       5|         5| 3/1/2018|26096.66|\n",
      "|       31|   Antão Corte-Real|    ES|     M|Silver|       6|         5| 4/1/2020| 18402.0|\n",
      "|       31|   Antão Corte-Real|    ES|     M|Silver|       7|         5| 6/1/2019|  7524.2|\n",
      "|      186|  Gertrudes Infante|    RS|     F|Silver|       8|         5| 6/1/2019| 12036.6|\n",
      "|       91|     Cosme Zambujal|    BA|     M|Silver|       9|         7| 6/1/2020| 2804.75|\n",
      "|      202| Greice Lameirinhas|    PI|     F|Silver|      10|         2| 6/1/2020|  8852.0|\n",
      "|       58|     Brígida Gusmão|    DF|     F|Silver|      11|         7| 8/1/2019|16545.25|\n",
      "|       58|     Brígida Gusmão|    DF|     F|Silver|      12|         7| 9/1/2018|11411.88|\n",
      "|       58|     Brígida Gusmão|    DF|     F|Silver|      13|         7|10/1/2019| 15829.7|\n",
      "|      249|     Joaquim Mieiro|    TO|     M|Silver|      14|         3|12/1/2020| 6154.36|\n",
      "|      249|     Joaquim Mieiro|    TO|     M|Silver|      15|         4|12/1/2018| 3255.08|\n",
      "|      192|    Gisela Candeias|    SC|     F|Silver|      16|         7|13/1/2020| 2901.25|\n",
      "|       79|      Cidália Miera|    SE|     F|Silver|      17|         2|13/1/2019| 15829.7|\n",
      "|       79|      Cidália Miera|    SE|     F|Silver|      18|        10|14/1/2019|16996.36|\n",
      "|      191|       Gisela Bahia|    SP|     F|Silver|      19|        10|14/1/2019|   155.0|\n",
      "|      218|Hermígio Villaverde|    MA|     M|Silver|      20|         9|15/1/2018|  131.75|\n",
      "+---------+-------------------+------+------+------+--------+----------+---------+--------+\n",
      "only showing top 20 rows\n",
      "\n"
     ]
    }
   ],
   "source": [
    "client_by_sales = df_client.join(df_sale,on=\"ClienteID\",how=\"inner\")\n",
    "client_by_sales.show()"
   ]
  },
  {
   "cell_type": "code",
   "execution_count": 26,
   "id": "f01f82cd-ef4b-4ecd-aff4-7a9f1aadceea",
   "metadata": {},
   "outputs": [
    {
     "data": {
      "text/plain": [
       "StructType(List(StructField(ClienteID,LongType,true),StructField(Cliente,StringType,true),StructField(Estado,StringType,true),StructField(Genero,StringType,true),StructField(Status,StringType,true),StructField(VendasID,LongType,true),StructField(VendedorID,LongType,true),StructField(Data,StringType,true),StructField(Total,DoubleType,true)))"
      ]
     },
     "execution_count": 26,
     "metadata": {},
     "output_type": "execute_result"
    }
   ],
   "source": [
    "client_by_sales.schema"
   ]
  },
  {
   "cell_type": "code",
   "execution_count": 31,
   "id": "9efefe4f-24b9-4e42-9cfc-15e5a326224d",
   "metadata": {},
   "outputs": [
    {
     "name": "stdout",
     "output_type": "stream",
     "text": [
      "+--------+------------------+\n",
      "|  Status|        sum(Total)|\n",
      "+--------+------------------+\n",
      "|Platinum|          12584.68|\n",
      "|  Silver|        3014291.36|\n",
      "|    Gold|27286.690000000002|\n",
      "+--------+------------------+\n",
      "\n"
     ]
    }
   ],
   "source": [
    "client_by_sales.groupBy(\"Status\").sum(\"Total\").show()"
   ]
  },
  {
   "cell_type": "code",
   "execution_count": null,
   "id": "c58a8a23-f1cd-4179-ad4b-58d44ac7d2ea",
   "metadata": {},
   "outputs": [],
   "source": []
  }
 ],
 "metadata": {
  "kernelspec": {
   "display_name": "Python 3 (ipykernel)",
   "language": "python",
   "name": "python3"
  },
  "language_info": {
   "codemirror_mode": {
    "name": "ipython",
    "version": 3
   },
   "file_extension": ".py",
   "mimetype": "text/x-python",
   "name": "python",
   "nbconvert_exporter": "python",
   "pygments_lexer": "ipython3",
   "version": "3.10.4"
  }
 },
 "nbformat": 4,
 "nbformat_minor": 5
}
